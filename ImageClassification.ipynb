{
  "nbformat": 4,
  "nbformat_minor": 0,
  "metadata": {
    "colab": {
      "provenance": [],
      "authorship_tag": "ABX9TyMBvJscWVIkzWMBHkpBEUN1",
      "include_colab_link": true
    },
    "kernelspec": {
      "name": "python3",
      "display_name": "Python 3"
    },
    "language_info": {
      "name": "python"
    }
  },
  "cells": [
    {
      "cell_type": "markdown",
      "metadata": {
        "id": "view-in-github",
        "colab_type": "text"
      },
      "source": [
        "<a href=\"https://colab.research.google.com/github/SAHARIARSHOWMIK/CNN-Image-Classification/blob/main/ImageClassification.ipynb\" target=\"_parent\"><img src=\"https://colab.research.google.com/assets/colab-badge.svg\" alt=\"Open In Colab\"/></a>"
      ]
    },
    {
      "cell_type": "code",
      "execution_count": 1,
      "metadata": {
        "id": "0to3CIozuTRk"
      },
      "outputs": [],
      "source": [
        "\n",
        "import tensorflow as tf\n",
        "from tensorflow.keras.preprocessing.image import ImageDataGenerator\n",
        "import matplotlib.pyplot as plt\n",
        "from tensorflow.keras.layers import Conv2D, MaxPool2D, Dense, Flatten, Dropout, Input\n",
        "from tensorflow.keras.models import Sequential"
      ]
    },
    {
      "cell_type": "code",
      "source": [
        "tf.__version__"
      ],
      "metadata": {
        "colab": {
          "base_uri": "https://localhost:8080/",
          "height": 36
        },
        "id": "pHtkeUmHuiBr",
        "outputId": "5644432b-3eb2-4653-ad36-8982296abe3e"
      },
      "execution_count": 2,
      "outputs": [
        {
          "output_type": "execute_result",
          "data": {
            "text/plain": [
              "'2.18.0'"
            ],
            "application/vnd.google.colaboratory.intrinsic+json": {
              "type": "string"
            }
          },
          "metadata": {},
          "execution_count": 2
        }
      ]
    },
    {
      "cell_type": "code",
      "source": [
        "from keras.datasets import cifar10\n",
        "(X_train, y_train), (X_test, y_test) = cifar10.load_data()"
      ],
      "metadata": {
        "colab": {
          "base_uri": "https://localhost:8080/"
        },
        "id": "MyyMnMcnumtl",
        "outputId": "f57546b5-6958-4ea9-d1d7-8156159cacd2"
      },
      "execution_count": 3,
      "outputs": [
        {
          "output_type": "stream",
          "name": "stdout",
          "text": [
            "Downloading data from https://www.cs.toronto.edu/~kriz/cifar-10-python.tar.gz\n",
            "\u001b[1m170498071/170498071\u001b[0m \u001b[32m━━━━━━━━━━━━━━━━━━━━\u001b[0m\u001b[37m\u001b[0m \u001b[1m4s\u001b[0m 0us/step\n"
          ]
        }
      ]
    },
    {
      "cell_type": "code",
      "source": [
        "print(\"X Train: {} \\nX Test: {} \\ny Train: {} \\ny test: {}\".format(X_train.shape, X_test.shape, y_train.shape, y_test.shape))\n"
      ],
      "metadata": {
        "colab": {
          "base_uri": "https://localhost:8080/"
        },
        "id": "RG2j9ro4upgN",
        "outputId": "375a9411-0a0e-4735-88e8-5dada135a2ab"
      },
      "execution_count": 4,
      "outputs": [
        {
          "output_type": "stream",
          "name": "stdout",
          "text": [
            "X Train: (50000, 32, 32, 3) \n",
            "X Test: (10000, 32, 32, 3) \n",
            "y Train: (50000, 1) \n",
            "y test: (10000, 1)\n"
          ]
        }
      ]
    },
    {
      "cell_type": "code",
      "source": [
        "y_train = tf.keras.utils.to_categorical(y_train, num_classes=10)\n",
        "y_test = tf.keras.utils.to_categorical(y_test, num_classes=10)"
      ],
      "metadata": {
        "id": "4U8nqT8kusmg"
      },
      "execution_count": 5,
      "outputs": []
    },
    {
      "cell_type": "code",
      "source": [
        "train_datagen = ImageDataGenerator(\n",
        "    rescale = 1./255,\n",
        "    shear_range = 0.2,\n",
        "    zoom_range = 0.2,\n",
        "    horizontal_flip = True\n",
        ")"
      ],
      "metadata": {
        "id": "d5AwwvWvuzLE"
      },
      "execution_count": 6,
      "outputs": []
    },
    {
      "cell_type": "code",
      "source": [
        "train_generator = train_datagen.flow(\n",
        "    X_train, y_train,\n",
        "    batch_size = 32\n",
        ")"
      ],
      "metadata": {
        "id": "4asrhM2vu27F"
      },
      "execution_count": 7,
      "outputs": []
    },
    {
      "cell_type": "code",
      "source": [
        "test_datagen = ImageDataGenerator(\n",
        "    rescale = 1./255\n",
        ")"
      ],
      "metadata": {
        "id": "WRrHE3q2u42n"
      },
      "execution_count": 8,
      "outputs": []
    },
    {
      "cell_type": "code",
      "source": [
        "test_generator = test_datagen.flow(\n",
        "    X_test, y_test,\n",
        "    batch_size = 32\n",
        ")"
      ],
      "metadata": {
        "id": "-Ab2jKhTu67y"
      },
      "execution_count": 9,
      "outputs": []
    },
    {
      "cell_type": "code",
      "source": [
        "cnn = Sequential()"
      ],
      "metadata": {
        "id": "0Fi9EeP_u9y-"
      },
      "execution_count": 10,
      "outputs": []
    },
    {
      "cell_type": "code",
      "source": [
        "cnn.add(Input(shape=(32, 32, 3)))"
      ],
      "metadata": {
        "id": "TXIiCcOavAGj"
      },
      "execution_count": 11,
      "outputs": []
    },
    {
      "cell_type": "code",
      "source": [
        "cnn.add(Conv2D(filters=32, kernel_size=(3,3), strides=(1,1), activation=\"relu\"))\n"
      ],
      "metadata": {
        "id": "qq_a0nGxvC-c"
      },
      "execution_count": 12,
      "outputs": []
    },
    {
      "cell_type": "code",
      "source": [
        "cnn.add(MaxPool2D(pool_size=(2,2), strides=2))\n"
      ],
      "metadata": {
        "id": "kaOVI1TJvE0s"
      },
      "execution_count": 13,
      "outputs": []
    },
    {
      "cell_type": "code",
      "source": [
        "cnn.add(Conv2D(filters=64, kernel_size=(3,3), strides=(1,1), activation=\"relu\"))\n"
      ],
      "metadata": {
        "id": "e1mfSfdfvGzd"
      },
      "execution_count": 14,
      "outputs": []
    },
    {
      "cell_type": "code",
      "source": [
        "cnn.add(MaxPool2D(pool_size=(2,2), strides=2))\n"
      ],
      "metadata": {
        "id": "kg-0lo7uvIpH"
      },
      "execution_count": 15,
      "outputs": []
    },
    {
      "cell_type": "code",
      "source": [
        "cnn.add(Flatten())\n"
      ],
      "metadata": {
        "id": "FiUBQmnIvLi7"
      },
      "execution_count": 16,
      "outputs": []
    },
    {
      "cell_type": "code",
      "source": [
        "cnn.add(Dense(units=128, activation=\"relu\"))\n"
      ],
      "metadata": {
        "id": "WNaQp_yivMbA"
      },
      "execution_count": 17,
      "outputs": []
    },
    {
      "cell_type": "code",
      "source": [
        "cnn.add(Dense(units=64, activation=\"relu\"))\n"
      ],
      "metadata": {
        "id": "xnRFdMa2vOOI"
      },
      "execution_count": 18,
      "outputs": []
    },
    {
      "cell_type": "code",
      "source": [
        "cnn.add(Dense(units=10, activation=\"softmax\"))\n"
      ],
      "metadata": {
        "id": "F11SRYVyvRIQ"
      },
      "execution_count": 19,
      "outputs": []
    },
    {
      "cell_type": "code",
      "source": [
        "cnn.compile(optimizer=\"adam\", loss=\"categorical_crossentropy\", metrics=[\"accuracy\", \"precision\", \"recall\", \"f1_score\"])\n"
      ],
      "metadata": {
        "id": "a3DJsbeQvS1Q"
      },
      "execution_count": 20,
      "outputs": []
    },
    {
      "cell_type": "code",
      "source": [
        "history = cnn.fit(\n",
        "    train_generator,\n",
        "    epochs=25,\n",
        "    validation_data=test_generator\n",
        ")"
      ],
      "metadata": {
        "colab": {
          "base_uri": "https://localhost:8080/"
        },
        "id": "qU8Y-KSAvVkV",
        "outputId": "5ef2f138-0ab4-449d-8e61-6006b46b99cf"
      },
      "execution_count": 21,
      "outputs": [
        {
          "output_type": "stream",
          "name": "stdout",
          "text": [
            "Epoch 1/25\n"
          ]
        },
        {
          "output_type": "stream",
          "name": "stderr",
          "text": [
            "/usr/local/lib/python3.11/dist-packages/keras/src/trainers/data_adapters/py_dataset_adapter.py:121: UserWarning: Your `PyDataset` class should call `super().__init__(**kwargs)` in its constructor. `**kwargs` can include `workers`, `use_multiprocessing`, `max_queue_size`. Do not pass these arguments to `fit()`, as they will be ignored.\n",
            "  self._warn_if_super_not_called()\n"
          ]
        },
        {
          "output_type": "stream",
          "name": "stdout",
          "text": [
            "\u001b[1m1563/1563\u001b[0m \u001b[32m━━━━━━━━━━━━━━━━━━━━\u001b[0m\u001b[37m\u001b[0m \u001b[1m105s\u001b[0m 65ms/step - accuracy: 0.3683 - f1_score: 0.3552 - loss: 1.7310 - precision: 0.6107 - recall: 0.1278 - val_accuracy: 0.5583 - val_f1_score: 0.5456 - val_loss: 1.2223 - val_precision: 0.7117 - val_recall: 0.3812\n",
            "Epoch 2/25\n",
            "\u001b[1m1563/1563\u001b[0m \u001b[32m━━━━━━━━━━━━━━━━━━━━\u001b[0m\u001b[37m\u001b[0m \u001b[1m102s\u001b[0m 65ms/step - accuracy: 0.5747 - f1_score: 0.5716 - loss: 1.2037 - precision: 0.7339 - recall: 0.4041 - val_accuracy: 0.6115 - val_f1_score: 0.6019 - val_loss: 1.1219 - val_precision: 0.7206 - val_recall: 0.4911\n",
            "Epoch 3/25\n",
            "\u001b[1m1563/1563\u001b[0m \u001b[32m━━━━━━━━━━━━━━━━━━━━\u001b[0m\u001b[37m\u001b[0m \u001b[1m103s\u001b[0m 66ms/step - accuracy: 0.6282 - f1_score: 0.6265 - loss: 1.0584 - precision: 0.7648 - recall: 0.4891 - val_accuracy: 0.6599 - val_f1_score: 0.6572 - val_loss: 0.9716 - val_precision: 0.7826 - val_recall: 0.5359\n",
            "Epoch 4/25\n",
            "\u001b[1m1563/1563\u001b[0m \u001b[32m━━━━━━━━━━━━━━━━━━━━\u001b[0m\u001b[37m\u001b[0m \u001b[1m99s\u001b[0m 63ms/step - accuracy: 0.6588 - f1_score: 0.6580 - loss: 0.9760 - precision: 0.7774 - recall: 0.5365 - val_accuracy: 0.6581 - val_f1_score: 0.6495 - val_loss: 0.9812 - val_precision: 0.7627 - val_recall: 0.5597\n",
            "Epoch 5/25\n",
            "\u001b[1m1563/1563\u001b[0m \u001b[32m━━━━━━━━━━━━━━━━━━━━\u001b[0m\u001b[37m\u001b[0m \u001b[1m99s\u001b[0m 63ms/step - accuracy: 0.6806 - f1_score: 0.6795 - loss: 0.9145 - precision: 0.7878 - recall: 0.5706 - val_accuracy: 0.6802 - val_f1_score: 0.6714 - val_loss: 0.9122 - val_precision: 0.7745 - val_recall: 0.5879\n",
            "Epoch 6/25\n",
            "\u001b[1m1563/1563\u001b[0m \u001b[32m━━━━━━━━━━━━━━━━━━━━\u001b[0m\u001b[37m\u001b[0m \u001b[1m101s\u001b[0m 64ms/step - accuracy: 0.6924 - f1_score: 0.6908 - loss: 0.8730 - precision: 0.7978 - recall: 0.5947 - val_accuracy: 0.6992 - val_f1_score: 0.6967 - val_loss: 0.8698 - val_precision: 0.7998 - val_recall: 0.5990\n",
            "Epoch 7/25\n",
            "\u001b[1m1563/1563\u001b[0m \u001b[32m━━━━━━━━━━━━━━━━━━━━\u001b[0m\u001b[37m\u001b[0m \u001b[1m100s\u001b[0m 64ms/step - accuracy: 0.7088 - f1_score: 0.7082 - loss: 0.8371 - precision: 0.8092 - recall: 0.6169 - val_accuracy: 0.7072 - val_f1_score: 0.7031 - val_loss: 0.8661 - val_precision: 0.7862 - val_recall: 0.6373\n",
            "Epoch 8/25\n",
            "\u001b[1m1563/1563\u001b[0m \u001b[32m━━━━━━━━━━━━━━━━━━━━\u001b[0m\u001b[37m\u001b[0m \u001b[1m142s\u001b[0m 64ms/step - accuracy: 0.7183 - f1_score: 0.7182 - loss: 0.7974 - precision: 0.8090 - recall: 0.6332 - val_accuracy: 0.7057 - val_f1_score: 0.7028 - val_loss: 0.8434 - val_precision: 0.7976 - val_recall: 0.6272\n",
            "Epoch 9/25\n",
            "\u001b[1m1563/1563\u001b[0m \u001b[32m━━━━━━━━━━━━━━━━━━━━\u001b[0m\u001b[37m\u001b[0m \u001b[1m105s\u001b[0m 67ms/step - accuracy: 0.7313 - f1_score: 0.7317 - loss: 0.7660 - precision: 0.8163 - recall: 0.6485 - val_accuracy: 0.6792 - val_f1_score: 0.6721 - val_loss: 0.9736 - val_precision: 0.7649 - val_recall: 0.6075\n",
            "Epoch 10/25\n",
            "\u001b[1m1563/1563\u001b[0m \u001b[32m━━━━━━━━━━━━━━━━━━━━\u001b[0m\u001b[37m\u001b[0m \u001b[1m136s\u001b[0m 63ms/step - accuracy: 0.7304 - f1_score: 0.7291 - loss: 0.7629 - precision: 0.8163 - recall: 0.6518 - val_accuracy: 0.7039 - val_f1_score: 0.6982 - val_loss: 0.8656 - val_precision: 0.7873 - val_recall: 0.6188\n",
            "Epoch 11/25\n",
            "\u001b[1m1563/1563\u001b[0m \u001b[32m━━━━━━━━━━━━━━━━━━━━\u001b[0m\u001b[37m\u001b[0m \u001b[1m99s\u001b[0m 63ms/step - accuracy: 0.7444 - f1_score: 0.7438 - loss: 0.7284 - precision: 0.8276 - recall: 0.6669 - val_accuracy: 0.7111 - val_f1_score: 0.7030 - val_loss: 0.8673 - val_precision: 0.7883 - val_recall: 0.6395\n",
            "Epoch 12/25\n",
            "\u001b[1m1563/1563\u001b[0m \u001b[32m━━━━━━━━━━━━━━━━━━━━\u001b[0m\u001b[37m\u001b[0m \u001b[1m102s\u001b[0m 65ms/step - accuracy: 0.7537 - f1_score: 0.7525 - loss: 0.7045 - precision: 0.8305 - recall: 0.6805 - val_accuracy: 0.6995 - val_f1_score: 0.6916 - val_loss: 0.8838 - val_precision: 0.7681 - val_recall: 0.6369\n",
            "Epoch 13/25\n",
            "\u001b[1m1563/1563\u001b[0m \u001b[32m━━━━━━━━━━━━━━━━━━━━\u001b[0m\u001b[37m\u001b[0m \u001b[1m142s\u001b[0m 65ms/step - accuracy: 0.7579 - f1_score: 0.7574 - loss: 0.6854 - precision: 0.8333 - recall: 0.6906 - val_accuracy: 0.7244 - val_f1_score: 0.7202 - val_loss: 0.8282 - val_precision: 0.7885 - val_recall: 0.6740\n",
            "Epoch 14/25\n",
            "\u001b[1m1563/1563\u001b[0m \u001b[32m━━━━━━━━━━━━━━━━━━━━\u001b[0m\u001b[37m\u001b[0m \u001b[1m103s\u001b[0m 66ms/step - accuracy: 0.7652 - f1_score: 0.7654 - loss: 0.6702 - precision: 0.8389 - recall: 0.6991 - val_accuracy: 0.7175 - val_f1_score: 0.7165 - val_loss: 0.8290 - val_precision: 0.7950 - val_recall: 0.6484\n",
            "Epoch 15/25\n",
            "\u001b[1m1563/1563\u001b[0m \u001b[32m━━━━━━━━━━━━━━━━━━━━\u001b[0m\u001b[37m\u001b[0m \u001b[1m101s\u001b[0m 65ms/step - accuracy: 0.7693 - f1_score: 0.7691 - loss: 0.6638 - precision: 0.8386 - recall: 0.7057 - val_accuracy: 0.7235 - val_f1_score: 0.7166 - val_loss: 0.8288 - val_precision: 0.7926 - val_recall: 0.6689\n",
            "Epoch 16/25\n",
            "\u001b[1m1563/1563\u001b[0m \u001b[32m━━━━━━━━━━━━━━━━━━━━\u001b[0m\u001b[37m\u001b[0m \u001b[1m141s\u001b[0m 64ms/step - accuracy: 0.7728 - f1_score: 0.7724 - loss: 0.6430 - precision: 0.8422 - recall: 0.7123 - val_accuracy: 0.7383 - val_f1_score: 0.7348 - val_loss: 0.8163 - val_precision: 0.7946 - val_recall: 0.6859\n",
            "Epoch 17/25\n",
            "\u001b[1m1563/1563\u001b[0m \u001b[32m━━━━━━━━━━━━━━━━━━━━\u001b[0m\u001b[37m\u001b[0m \u001b[1m108s\u001b[0m 69ms/step - accuracy: 0.7762 - f1_score: 0.7754 - loss: 0.6365 - precision: 0.8426 - recall: 0.7134 - val_accuracy: 0.7342 - val_f1_score: 0.7314 - val_loss: 0.7990 - val_precision: 0.8028 - val_recall: 0.6811\n",
            "Epoch 18/25\n",
            "\u001b[1m1563/1563\u001b[0m \u001b[32m━━━━━━━━━━━━━━━━━━━━\u001b[0m\u001b[37m\u001b[0m \u001b[1m102s\u001b[0m 65ms/step - accuracy: 0.7779 - f1_score: 0.7776 - loss: 0.6249 - precision: 0.8457 - recall: 0.7192 - val_accuracy: 0.7282 - val_f1_score: 0.7228 - val_loss: 0.8547 - val_precision: 0.7805 - val_recall: 0.6821\n",
            "Epoch 19/25\n",
            "\u001b[1m1563/1563\u001b[0m \u001b[32m━━━━━━━━━━━━━━━━━━━━\u001b[0m\u001b[37m\u001b[0m \u001b[1m100s\u001b[0m 64ms/step - accuracy: 0.7834 - f1_score: 0.7824 - loss: 0.6112 - precision: 0.8488 - recall: 0.7274 - val_accuracy: 0.7337 - val_f1_score: 0.7306 - val_loss: 0.8114 - val_precision: 0.7986 - val_recall: 0.6809\n",
            "Epoch 20/25\n",
            "\u001b[1m1563/1563\u001b[0m \u001b[32m━━━━━━━━━━━━━━━━━━━━\u001b[0m\u001b[37m\u001b[0m \u001b[1m100s\u001b[0m 64ms/step - accuracy: 0.7909 - f1_score: 0.7905 - loss: 0.5995 - precision: 0.8524 - recall: 0.7355 - val_accuracy: 0.7332 - val_f1_score: 0.7298 - val_loss: 0.8254 - val_precision: 0.7890 - val_recall: 0.6852\n",
            "Epoch 21/25\n",
            "\u001b[1m1563/1563\u001b[0m \u001b[32m━━━━━━━━━━━━━━━━━━━━\u001b[0m\u001b[37m\u001b[0m \u001b[1m99s\u001b[0m 63ms/step - accuracy: 0.7951 - f1_score: 0.7950 - loss: 0.5790 - precision: 0.8539 - recall: 0.7404 - val_accuracy: 0.7302 - val_f1_score: 0.7247 - val_loss: 0.8270 - val_precision: 0.7936 - val_recall: 0.6791\n",
            "Epoch 22/25\n",
            "\u001b[1m1563/1563\u001b[0m \u001b[32m━━━━━━━━━━━━━━━━━━━━\u001b[0m\u001b[37m\u001b[0m \u001b[1m99s\u001b[0m 64ms/step - accuracy: 0.7978 - f1_score: 0.7982 - loss: 0.5790 - precision: 0.8558 - recall: 0.7431 - val_accuracy: 0.7234 - val_f1_score: 0.7192 - val_loss: 0.8628 - val_precision: 0.7818 - val_recall: 0.6761\n",
            "Epoch 23/25\n",
            "\u001b[1m1563/1563\u001b[0m \u001b[32m━━━━━━━━━━━━━━━━━━━━\u001b[0m\u001b[37m\u001b[0m \u001b[1m100s\u001b[0m 64ms/step - accuracy: 0.7975 - f1_score: 0.7964 - loss: 0.5754 - precision: 0.8567 - recall: 0.7446 - val_accuracy: 0.7287 - val_f1_score: 0.7218 - val_loss: 0.8481 - val_precision: 0.7894 - val_recall: 0.6842\n",
            "Epoch 24/25\n",
            "\u001b[1m1563/1563\u001b[0m \u001b[32m━━━━━━━━━━━━━━━━━━━━\u001b[0m\u001b[37m\u001b[0m \u001b[1m143s\u001b[0m 64ms/step - accuracy: 0.8012 - f1_score: 0.8002 - loss: 0.5628 - precision: 0.8590 - recall: 0.7525 - val_accuracy: 0.7365 - val_f1_score: 0.7349 - val_loss: 0.8151 - val_precision: 0.7941 - val_recall: 0.6913\n",
            "Epoch 25/25\n",
            "\u001b[1m1563/1563\u001b[0m \u001b[32m━━━━━━━━━━━━━━━━━━━━\u001b[0m\u001b[37m\u001b[0m \u001b[1m101s\u001b[0m 65ms/step - accuracy: 0.7994 - f1_score: 0.7992 - loss: 0.5646 - precision: 0.8562 - recall: 0.7511 - val_accuracy: 0.7280 - val_f1_score: 0.7250 - val_loss: 0.8676 - val_precision: 0.7803 - val_recall: 0.6842\n"
          ]
        }
      ]
    },
    {
      "cell_type": "code",
      "source": [
        "plt.plot(history.history['accuracy'])\n",
        "plt.plot(history.history['val_accuracy'])\n",
        "plt.title('Model accuracy')\n",
        "plt.ylabel('Accuracy')\n",
        "plt.xlabel('Epoch')\n",
        "plt.legend(['Train', 'Validation'], loc='upper left')\n",
        "plt.show()"
      ],
      "metadata": {
        "colab": {
          "base_uri": "https://localhost:8080/",
          "height": 472
        },
        "id": "mnWNe8AU51_z",
        "outputId": "a3187eaa-01e2-4798-e791-3593d04b0bed"
      },
      "execution_count": 22,
      "outputs": [
        {
          "output_type": "display_data",
          "data": {
            "text/plain": [
              "<Figure size 640x480 with 1 Axes>"
            ],
            "image/png": "[encoded data removed]"
          },
          "metadata": {}
        }
      ]
    }
  ]
}